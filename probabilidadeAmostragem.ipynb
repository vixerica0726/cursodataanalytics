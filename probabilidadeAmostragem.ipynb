{
  "nbformat": 4,
  "nbformat_minor": 0,
  "metadata": {
    "colab": {
      "provenance": [],
      "authorship_tag": "ABX9TyOS+Feodi7QjAnbEDgD5l5i",
      "include_colab_link": true
    },
    "kernelspec": {
      "name": "python3",
      "display_name": "Python 3"
    },
    "language_info": {
      "name": "python"
    }
  },
  "cells": [
    {
      "cell_type": "markdown",
      "metadata": {
        "id": "view-in-github",
        "colab_type": "text"
      },
      "source": [
        "<a href=\"https://colab.research.google.com/github/vixerica0726/cursodataanalytics/blob/main/probabilidadeAmostragem.ipynb\" target=\"_parent\"><img src=\"https://colab.research.google.com/assets/colab-badge.svg\" alt=\"Open In Colab\"/></a>"
      ]
    },
    {
      "cell_type": "markdown",
      "source": [
        "# Estatística - Probabilidade e Amostragem\n",
        "\n",
        "\n"
      ],
      "metadata": {
        "id": "nLkku-QrIXWa"
      }
    },
    {
      "cell_type": "code",
      "execution_count": 8,
      "metadata": {
        "id": "G08uaZsgIR23"
      },
      "outputs": [],
      "source": [
        "# Bibliotecas para  amanipulação dos dados\n",
        "import pandas as pd\n",
        "import numpy as np\n",
        "import matplotlib.pyplot as plt\n",
        "import seaborn as sns\n",
        "\n"
      ]
    },
    {
      "cell_type": "code",
      "source": [
        "# \"index_col=0\" faz com que a primeira coluna do CSV seja usada como índice do DataFrame\n",
        "df = pd.read_csv(\"populacao_brasileira.csv.csv\", index_col=0)\n",
        "\n",
        "# Exibe as 10 primeiras linhas do DataFrame\n",
        "print(df.head(1000))\n"
      ],
      "metadata": {
        "colab": {
          "base_uri": "https://localhost:8080/"
        },
        "id": "-Q33utwKJTVR",
        "outputId": "56dd2853-5519-4812-b2f1-cd022b5bd94a"
      },
      "execution_count": 23,
      "outputs": [
        {
          "output_type": "stream",
          "name": "stdout",
          "text": [
            "    estado  idade   escolaridade nível de proficiência em inglês    renda sexo\n",
            "0       MA     56    Fundamental                   Intermediário  4006.29    F\n",
            "1       BA     46       Superior                          Básico  2423.11    M\n",
            "2       AM     32    Fundamental                   Intermediário  3835.69    M\n",
            "3       CE     60       Superior                          Básico  1870.29    M\n",
            "4       SE     25    Fundamental                        Avançado  3529.80    M\n",
            "..     ...    ...            ...                             ...      ...  ...\n",
            "995     AC     22          Médio                          Básico  2852.40    F\n",
            "996     PE     40    Fundamental                          Básico  2533.96    M\n",
            "997     GO     27  Pós-graduação                   Intermediário  1405.30    F\n",
            "998     RS     61    Fundamental                        Avançado  3513.60    F\n",
            "999     MG     19       Superior                   Intermediário  2467.30    F\n",
            "\n",
            "[1000 rows x 6 columns]\n"
          ]
        }
      ]
    },
    {
      "cell_type": "code",
      "source": [
        "df.isnull().sum() # Verificar se há valores nulos\n"
      ],
      "metadata": {
        "colab": {
          "base_uri": "https://localhost:8080/",
          "height": 272
        },
        "id": "4CU7TvpmO7kp",
        "outputId": "23ad17f4-7da7-4602-938e-00994c074467"
      },
      "execution_count": 10,
      "outputs": [
        {
          "output_type": "execute_result",
          "data": {
            "text/plain": [
              "estado                             0\n",
              "idade                              0\n",
              "escolaridade                       0\n",
              "nível de proficiência em inglês    0\n",
              "renda                              0\n",
              "sexo                               0\n",
              "dtype: int64"
            ],
            "text/html": [
              "<div>\n",
              "<style scoped>\n",
              "    .dataframe tbody tr th:only-of-type {\n",
              "        vertical-align: middle;\n",
              "    }\n",
              "\n",
              "    .dataframe tbody tr th {\n",
              "        vertical-align: top;\n",
              "    }\n",
              "\n",
              "    .dataframe thead th {\n",
              "        text-align: right;\n",
              "    }\n",
              "</style>\n",
              "<table border=\"1\" class=\"dataframe\">\n",
              "  <thead>\n",
              "    <tr style=\"text-align: right;\">\n",
              "      <th></th>\n",
              "      <th>0</th>\n",
              "    </tr>\n",
              "  </thead>\n",
              "  <tbody>\n",
              "    <tr>\n",
              "      <th>estado</th>\n",
              "      <td>0</td>\n",
              "    </tr>\n",
              "    <tr>\n",
              "      <th>idade</th>\n",
              "      <td>0</td>\n",
              "    </tr>\n",
              "    <tr>\n",
              "      <th>escolaridade</th>\n",
              "      <td>0</td>\n",
              "    </tr>\n",
              "    <tr>\n",
              "      <th>nível de proficiência em inglês</th>\n",
              "      <td>0</td>\n",
              "    </tr>\n",
              "    <tr>\n",
              "      <th>renda</th>\n",
              "      <td>0</td>\n",
              "    </tr>\n",
              "    <tr>\n",
              "      <th>sexo</th>\n",
              "      <td>0</td>\n",
              "    </tr>\n",
              "  </tbody>\n",
              "</table>\n",
              "</div><br><label><b>dtype:</b> int64</label>"
            ]
          },
          "metadata": {},
          "execution_count": 10
        }
      ]
    },
    {
      "cell_type": "code",
      "source": [
        "df.dtypes # Tipos dos dados\n"
      ],
      "metadata": {
        "colab": {
          "base_uri": "https://localhost:8080/",
          "height": 272
        },
        "id": "ar_lWixRMUlI",
        "outputId": "0364f501-5444-4cd2-a5db-20b8a96c5cd8"
      },
      "execution_count": 11,
      "outputs": [
        {
          "output_type": "execute_result",
          "data": {
            "text/plain": [
              "estado                              object\n",
              "idade                                int64\n",
              "escolaridade                        object\n",
              "nível de proficiência em inglês     object\n",
              "renda                              float64\n",
              "sexo                                object\n",
              "dtype: object"
            ],
            "text/html": [
              "<div>\n",
              "<style scoped>\n",
              "    .dataframe tbody tr th:only-of-type {\n",
              "        vertical-align: middle;\n",
              "    }\n",
              "\n",
              "    .dataframe tbody tr th {\n",
              "        vertical-align: top;\n",
              "    }\n",
              "\n",
              "    .dataframe thead th {\n",
              "        text-align: right;\n",
              "    }\n",
              "</style>\n",
              "<table border=\"1\" class=\"dataframe\">\n",
              "  <thead>\n",
              "    <tr style=\"text-align: right;\">\n",
              "      <th></th>\n",
              "      <th>0</th>\n",
              "    </tr>\n",
              "  </thead>\n",
              "  <tbody>\n",
              "    <tr>\n",
              "      <th>estado</th>\n",
              "      <td>object</td>\n",
              "    </tr>\n",
              "    <tr>\n",
              "      <th>idade</th>\n",
              "      <td>int64</td>\n",
              "    </tr>\n",
              "    <tr>\n",
              "      <th>escolaridade</th>\n",
              "      <td>object</td>\n",
              "    </tr>\n",
              "    <tr>\n",
              "      <th>nível de proficiência em inglês</th>\n",
              "      <td>object</td>\n",
              "    </tr>\n",
              "    <tr>\n",
              "      <th>renda</th>\n",
              "      <td>float64</td>\n",
              "    </tr>\n",
              "    <tr>\n",
              "      <th>sexo</th>\n",
              "      <td>object</td>\n",
              "    </tr>\n",
              "  </tbody>\n",
              "</table>\n",
              "</div><br><label><b>dtype:</b> object</label>"
            ]
          },
          "metadata": {},
          "execution_count": 11
        }
      ]
    },
    {
      "cell_type": "code",
      "source": [
        "df.describe() # Descrição dos dados"
      ],
      "metadata": {
        "colab": {
          "base_uri": "https://localhost:8080/",
          "height": 300
        },
        "id": "P1Nm6ep1MwxJ",
        "outputId": "22e92df1-9cce-42ff-ede3-ac7c6f13eecb"
      },
      "execution_count": 12,
      "outputs": [
        {
          "output_type": "execute_result",
          "data": {
            "text/plain": [
              "             idade        renda\n",
              "count  1000.000000  1000.000000\n",
              "mean     40.986000  3082.537180\n",
              "std      13.497852   996.572239\n",
              "min      18.000000   103.740000\n",
              "25%      29.000000  2425.815000\n",
              "50%      42.000000  3076.415000\n",
              "75%      52.000000  3714.487500\n",
              "max      64.000000  5632.380000"
            ],
            "text/html": [
              "\n",
              "  <div id=\"df-570ccccd-dae4-417f-9fc7-bddbd876e8bb\" class=\"colab-df-container\">\n",
              "    <div>\n",
              "<style scoped>\n",
              "    .dataframe tbody tr th:only-of-type {\n",
              "        vertical-align: middle;\n",
              "    }\n",
              "\n",
              "    .dataframe tbody tr th {\n",
              "        vertical-align: top;\n",
              "    }\n",
              "\n",
              "    .dataframe thead th {\n",
              "        text-align: right;\n",
              "    }\n",
              "</style>\n",
              "<table border=\"1\" class=\"dataframe\">\n",
              "  <thead>\n",
              "    <tr style=\"text-align: right;\">\n",
              "      <th></th>\n",
              "      <th>idade</th>\n",
              "      <th>renda</th>\n",
              "    </tr>\n",
              "  </thead>\n",
              "  <tbody>\n",
              "    <tr>\n",
              "      <th>count</th>\n",
              "      <td>1000.000000</td>\n",
              "      <td>1000.000000</td>\n",
              "    </tr>\n",
              "    <tr>\n",
              "      <th>mean</th>\n",
              "      <td>40.986000</td>\n",
              "      <td>3082.537180</td>\n",
              "    </tr>\n",
              "    <tr>\n",
              "      <th>std</th>\n",
              "      <td>13.497852</td>\n",
              "      <td>996.572239</td>\n",
              "    </tr>\n",
              "    <tr>\n",
              "      <th>min</th>\n",
              "      <td>18.000000</td>\n",
              "      <td>103.740000</td>\n",
              "    </tr>\n",
              "    <tr>\n",
              "      <th>25%</th>\n",
              "      <td>29.000000</td>\n",
              "      <td>2425.815000</td>\n",
              "    </tr>\n",
              "    <tr>\n",
              "      <th>50%</th>\n",
              "      <td>42.000000</td>\n",
              "      <td>3076.415000</td>\n",
              "    </tr>\n",
              "    <tr>\n",
              "      <th>75%</th>\n",
              "      <td>52.000000</td>\n",
              "      <td>3714.487500</td>\n",
              "    </tr>\n",
              "    <tr>\n",
              "      <th>max</th>\n",
              "      <td>64.000000</td>\n",
              "      <td>5632.380000</td>\n",
              "    </tr>\n",
              "  </tbody>\n",
              "</table>\n",
              "</div>\n",
              "    <div class=\"colab-df-buttons\">\n",
              "\n",
              "  <div class=\"colab-df-container\">\n",
              "    <button class=\"colab-df-convert\" onclick=\"convertToInteractive('df-570ccccd-dae4-417f-9fc7-bddbd876e8bb')\"\n",
              "            title=\"Convert this dataframe to an interactive table.\"\n",
              "            style=\"display:none;\">\n",
              "\n",
              "  <svg xmlns=\"http://www.w3.org/2000/svg\" height=\"24px\" viewBox=\"0 -960 960 960\">\n",
              "    <path d=\"M120-120v-720h720v720H120Zm60-500h600v-160H180v160Zm220 220h160v-160H400v160Zm0 220h160v-160H400v160ZM180-400h160v-160H180v160Zm440 0h160v-160H620v160ZM180-180h160v-160H180v160Zm440 0h160v-160H620v160Z\"/>\n",
              "  </svg>\n",
              "    </button>\n",
              "\n",
              "  <style>\n",
              "    .colab-df-container {\n",
              "      display:flex;\n",
              "      gap: 12px;\n",
              "    }\n",
              "\n",
              "    .colab-df-convert {\n",
              "      background-color: #E8F0FE;\n",
              "      border: none;\n",
              "      border-radius: 50%;\n",
              "      cursor: pointer;\n",
              "      display: none;\n",
              "      fill: #1967D2;\n",
              "      height: 32px;\n",
              "      padding: 0 0 0 0;\n",
              "      width: 32px;\n",
              "    }\n",
              "\n",
              "    .colab-df-convert:hover {\n",
              "      background-color: #E2EBFA;\n",
              "      box-shadow: 0px 1px 2px rgba(60, 64, 67, 0.3), 0px 1px 3px 1px rgba(60, 64, 67, 0.15);\n",
              "      fill: #174EA6;\n",
              "    }\n",
              "\n",
              "    .colab-df-buttons div {\n",
              "      margin-bottom: 4px;\n",
              "    }\n",
              "\n",
              "    [theme=dark] .colab-df-convert {\n",
              "      background-color: #3B4455;\n",
              "      fill: #D2E3FC;\n",
              "    }\n",
              "\n",
              "    [theme=dark] .colab-df-convert:hover {\n",
              "      background-color: #434B5C;\n",
              "      box-shadow: 0px 1px 3px 1px rgba(0, 0, 0, 0.15);\n",
              "      filter: drop-shadow(0px 1px 2px rgba(0, 0, 0, 0.3));\n",
              "      fill: #FFFFFF;\n",
              "    }\n",
              "  </style>\n",
              "\n",
              "    <script>\n",
              "      const buttonEl =\n",
              "        document.querySelector('#df-570ccccd-dae4-417f-9fc7-bddbd876e8bb button.colab-df-convert');\n",
              "      buttonEl.style.display =\n",
              "        google.colab.kernel.accessAllowed ? 'block' : 'none';\n",
              "\n",
              "      async function convertToInteractive(key) {\n",
              "        const element = document.querySelector('#df-570ccccd-dae4-417f-9fc7-bddbd876e8bb');\n",
              "        const dataTable =\n",
              "          await google.colab.kernel.invokeFunction('convertToInteractive',\n",
              "                                                    [key], {});\n",
              "        if (!dataTable) return;\n",
              "\n",
              "        const docLinkHtml = 'Like what you see? Visit the ' +\n",
              "          '<a target=\"_blank\" href=https://colab.research.google.com/notebooks/data_table.ipynb>data table notebook</a>'\n",
              "          + ' to learn more about interactive tables.';\n",
              "        element.innerHTML = '';\n",
              "        dataTable['output_type'] = 'display_data';\n",
              "        await google.colab.output.renderOutput(dataTable, element);\n",
              "        const docLink = document.createElement('div');\n",
              "        docLink.innerHTML = docLinkHtml;\n",
              "        element.appendChild(docLink);\n",
              "      }\n",
              "    </script>\n",
              "  </div>\n",
              "\n",
              "\n",
              "<div id=\"df-96cfca9c-a27e-4ee5-996e-bc50e313ce76\">\n",
              "  <button class=\"colab-df-quickchart\" onclick=\"quickchart('df-96cfca9c-a27e-4ee5-996e-bc50e313ce76')\"\n",
              "            title=\"Suggest charts\"\n",
              "            style=\"display:none;\">\n",
              "\n",
              "<svg xmlns=\"http://www.w3.org/2000/svg\" height=\"24px\"viewBox=\"0 0 24 24\"\n",
              "     width=\"24px\">\n",
              "    <g>\n",
              "        <path d=\"M19 3H5c-1.1 0-2 .9-2 2v14c0 1.1.9 2 2 2h14c1.1 0 2-.9 2-2V5c0-1.1-.9-2-2-2zM9 17H7v-7h2v7zm4 0h-2V7h2v10zm4 0h-2v-4h2v4z\"/>\n",
              "    </g>\n",
              "</svg>\n",
              "  </button>\n",
              "\n",
              "<style>\n",
              "  .colab-df-quickchart {\n",
              "      --bg-color: #E8F0FE;\n",
              "      --fill-color: #1967D2;\n",
              "      --hover-bg-color: #E2EBFA;\n",
              "      --hover-fill-color: #174EA6;\n",
              "      --disabled-fill-color: #AAA;\n",
              "      --disabled-bg-color: #DDD;\n",
              "  }\n",
              "\n",
              "  [theme=dark] .colab-df-quickchart {\n",
              "      --bg-color: #3B4455;\n",
              "      --fill-color: #D2E3FC;\n",
              "      --hover-bg-color: #434B5C;\n",
              "      --hover-fill-color: #FFFFFF;\n",
              "      --disabled-bg-color: #3B4455;\n",
              "      --disabled-fill-color: #666;\n",
              "  }\n",
              "\n",
              "  .colab-df-quickchart {\n",
              "    background-color: var(--bg-color);\n",
              "    border: none;\n",
              "    border-radius: 50%;\n",
              "    cursor: pointer;\n",
              "    display: none;\n",
              "    fill: var(--fill-color);\n",
              "    height: 32px;\n",
              "    padding: 0;\n",
              "    width: 32px;\n",
              "  }\n",
              "\n",
              "  .colab-df-quickchart:hover {\n",
              "    background-color: var(--hover-bg-color);\n",
              "    box-shadow: 0 1px 2px rgba(60, 64, 67, 0.3), 0 1px 3px 1px rgba(60, 64, 67, 0.15);\n",
              "    fill: var(--button-hover-fill-color);\n",
              "  }\n",
              "\n",
              "  .colab-df-quickchart-complete:disabled,\n",
              "  .colab-df-quickchart-complete:disabled:hover {\n",
              "    background-color: var(--disabled-bg-color);\n",
              "    fill: var(--disabled-fill-color);\n",
              "    box-shadow: none;\n",
              "  }\n",
              "\n",
              "  .colab-df-spinner {\n",
              "    border: 2px solid var(--fill-color);\n",
              "    border-color: transparent;\n",
              "    border-bottom-color: var(--fill-color);\n",
              "    animation:\n",
              "      spin 1s steps(1) infinite;\n",
              "  }\n",
              "\n",
              "  @keyframes spin {\n",
              "    0% {\n",
              "      border-color: transparent;\n",
              "      border-bottom-color: var(--fill-color);\n",
              "      border-left-color: var(--fill-color);\n",
              "    }\n",
              "    20% {\n",
              "      border-color: transparent;\n",
              "      border-left-color: var(--fill-color);\n",
              "      border-top-color: var(--fill-color);\n",
              "    }\n",
              "    30% {\n",
              "      border-color: transparent;\n",
              "      border-left-color: var(--fill-color);\n",
              "      border-top-color: var(--fill-color);\n",
              "      border-right-color: var(--fill-color);\n",
              "    }\n",
              "    40% {\n",
              "      border-color: transparent;\n",
              "      border-right-color: var(--fill-color);\n",
              "      border-top-color: var(--fill-color);\n",
              "    }\n",
              "    60% {\n",
              "      border-color: transparent;\n",
              "      border-right-color: var(--fill-color);\n",
              "    }\n",
              "    80% {\n",
              "      border-color: transparent;\n",
              "      border-right-color: var(--fill-color);\n",
              "      border-bottom-color: var(--fill-color);\n",
              "    }\n",
              "    90% {\n",
              "      border-color: transparent;\n",
              "      border-bottom-color: var(--fill-color);\n",
              "    }\n",
              "  }\n",
              "</style>\n",
              "\n",
              "  <script>\n",
              "    async function quickchart(key) {\n",
              "      const quickchartButtonEl =\n",
              "        document.querySelector('#' + key + ' button');\n",
              "      quickchartButtonEl.disabled = true;  // To prevent multiple clicks.\n",
              "      quickchartButtonEl.classList.add('colab-df-spinner');\n",
              "      try {\n",
              "        const charts = await google.colab.kernel.invokeFunction(\n",
              "            'suggestCharts', [key], {});\n",
              "      } catch (error) {\n",
              "        console.error('Error during call to suggestCharts:', error);\n",
              "      }\n",
              "      quickchartButtonEl.classList.remove('colab-df-spinner');\n",
              "      quickchartButtonEl.classList.add('colab-df-quickchart-complete');\n",
              "    }\n",
              "    (() => {\n",
              "      let quickchartButtonEl =\n",
              "        document.querySelector('#df-96cfca9c-a27e-4ee5-996e-bc50e313ce76 button');\n",
              "      quickchartButtonEl.style.display =\n",
              "        google.colab.kernel.accessAllowed ? 'block' : 'none';\n",
              "    })();\n",
              "  </script>\n",
              "</div>\n",
              "\n",
              "    </div>\n",
              "  </div>\n"
            ],
            "application/vnd.google.colaboratory.intrinsic+json": {
              "type": "dataframe",
              "summary": "{\n  \"name\": \"df\",\n  \"rows\": 8,\n  \"fields\": [\n    {\n      \"column\": \"idade\",\n      \"properties\": {\n        \"dtype\": \"number\",\n        \"std\": 340.86101014470347,\n        \"min\": 13.497851532595702,\n        \"max\": 1000.0,\n        \"num_unique_values\": 8,\n        \"samples\": [\n          40.986,\n          42.0,\n          1000.0\n        ],\n        \"semantic_type\": \"\",\n        \"description\": \"\"\n      }\n    },\n    {\n      \"column\": \"renda\",\n      \"properties\": {\n        \"dtype\": \"number\",\n        \"std\": 1781.497004050599,\n        \"min\": 103.74,\n        \"max\": 5632.38,\n        \"num_unique_values\": 8,\n        \"samples\": [\n          3082.5371800000003,\n          3076.415,\n          1000.0\n        ],\n        \"semantic_type\": \"\",\n        \"description\": \"\"\n      }\n    }\n  ]\n}"
            }
          },
          "metadata": {},
          "execution_count": 12
        }
      ]
    },
    {
      "cell_type": "markdown",
      "source": [
        "##1 Considere pessoas fluentes em inglês, qual a probabilidade complementar? Ou seja, qual a probabilidade de escolhermos uma pessoa aleatória e ela não ser fluente em inglês. Considere fluente quem tem o nível avançado.\n"
      ],
      "metadata": {
        "id": "KgLAtyQiIiH-"
      }
    },
    {
      "cell_type": "code",
      "source": [
        "# Contar pessoas fluentes (nível avançado)\n",
        "fluentes = df[df['nível de proficiência em inglês'] == 'Avançado'].shape[0]\n",
        "\n",
        "# Número total de pessoas\n",
        "total_pessoas = df.shape[0]\n",
        "\n",
        "# Probabilidade de ser fluente\n",
        "p_fluente = fluentes / total_pessoas\n",
        "\n",
        "# Probabilidade complementar (não fluente)\n",
        "p_nao_fluente = 1 - p_fluente\n",
        "\n",
        "# Exibir todos os resultados\n",
        "print(f\"Total de pessoas: {total_pessoas}\")\n",
        "print(f\"Total de pessoas fluentes (nível avançado): {fluentes}\")\n",
        "print(f\"Probabilidade de ser fluente em inglês: {p_fluente:.4f}\")\n",
        "print(f\"Probabilidade de escolher uma pessoa não fluente em inglês: {p_nao_fluente:.4f}\")\n"
      ],
      "metadata": {
        "colab": {
          "base_uri": "https://localhost:8080/"
        },
        "id": "tPAq-PWyO4lA",
        "outputId": "799a08e3-335f-4dab-c476-77982b0d4544"
      },
      "execution_count": 13,
      "outputs": [
        {
          "output_type": "stream",
          "name": "stdout",
          "text": [
            "Total de pessoas: 1000\n",
            "Total de pessoas fluentes (nível avançado): 344\n",
            "Probabilidade de ser fluente em inglês: 0.3440\n",
            "Probabilidade de escolher uma pessoa não fluente em inglês: 0.6560\n"
          ]
        }
      ]
    },
    {
      "cell_type": "markdown",
      "source": [
        "34% das pessoas são fluentes em inglês (nível avançado).\n",
        "\n",
        "65% das pessoas não são fluentes em inglês (probabilidade complementar).\n",
        "\n",
        "Ou seja, a probabilidade de escolher uma pessoa aleatória e ela não ser fluente em inglês é de 65%."
      ],
      "metadata": {
        "id": "da0mZy9gVNLh"
      }
    },
    {
      "cell_type": "markdown",
      "source": [
        "## 2. Se uma pessoa escolhida aleatoriamente for de Alagoas ou do Pará, qual é a probabilidade de ela ter uma renda superior a 5 mil reais?\n"
      ],
      "metadata": {
        "id": "4DLiYR33Wrqo"
      }
    },
    {
      "cell_type": "code",
      "source": [
        "# Filtrar pessoas de Alagoas ou do Pará\n",
        "estado_alagoas_pará = df[df['estado'].isin(['AL', 'PA'])]\n",
        "\n",
        "# Filtrar pessoas com renda superior a 5 mil reais\n",
        "renda_acima_5k = estado_alagoas_pará[estado_alagoas_pará['renda'] > 5000]\n",
        "\n",
        "# Calcular a probabilidade\n",
        "probabilidade = renda_acima_5k.shape[0] / estado_alagoas_pará.shape[0]\n",
        "\n",
        "print(f\"A probabilidade de escolher uma pessoa de Alagoas ou do Pará com renda superior a 5 mil reais é: {probabilidade:.4f}\")\n"
      ],
      "metadata": {
        "colab": {
          "base_uri": "https://localhost:8080/"
        },
        "id": "s4055itdWwMH",
        "outputId": "b6df08f2-ca7b-432a-dc83-de6de7953331"
      },
      "execution_count": 14,
      "outputs": [
        {
          "output_type": "stream",
          "name": "stdout",
          "text": [
            "A probabilidade de escolher uma pessoa de Alagoas ou do Pará com renda superior a 5 mil reais é: 0.0506\n"
          ]
        }
      ]
    },
    {
      "cell_type": "markdown",
      "source": [
        "Ao escolher aleatoriamente uma pessoa do conjunto de dados, a chance de ela ser de Alagoas ou do Pará e, além disso, ter renda superior a 5 mil reais é de 5,06%."
      ],
      "metadata": {
        "id": "hL91X_7WXem5"
      }
    },
    {
      "cell_type": "markdown",
      "source": [
        "## 3. Descubra a probabilidade de uma pessoa, residente no estado do Amazonas, ter ensino superior completo (considerando apenas a escolaridade classificada como 'Superior'). Qual a probabilidade da quinta pessoa amazonense que você conversar ter ensino superior completo?"
      ],
      "metadata": {
        "id": "SLFL3QhHXtDh"
      }
    },
    {
      "cell_type": "code",
      "source": [
        "# Filtrar pessoas do Amazonas\n",
        "amazonas = df[df['estado'] == 'AM']\n",
        "\n",
        "# Filtrar pessoas com ensino superior completo\n",
        "superior_amazonas = amazonas[amazonas['escolaridade'] == 'Superior']\n",
        "\n",
        "# Calcular a probabilidade\n",
        "probabilidade_superior = superior_amazonas.shape[0] / amazonas.shape[0]\n",
        "\n",
        "print(f\"A probabilidade de uma pessoa do Amazonas ter ensino superior completo é: {probabilidade_superior:.4f}\")\n"
      ],
      "metadata": {
        "colab": {
          "base_uri": "https://localhost:8080/"
        },
        "id": "x8rl9q7fXzTD",
        "outputId": "f96c18f9-01cd-4d5f-d262-a7ffa789c96a"
      },
      "execution_count": 15,
      "outputs": [
        {
          "output_type": "stream",
          "name": "stdout",
          "text": [
            "A probabilidade de uma pessoa do Amazonas ter ensino superior completo é: 0.2368\n"
          ]
        }
      ]
    },
    {
      "cell_type": "markdown",
      "source": [
        "A probabilidade de a quinta pessoa amazonense que você conversar ter ensino superior completo é a mesma de qualquer outra pessoa, ou seja, 23,68%, porque estamos lidando com probabilidades de eventos independentes. A ordem em que você conversa com as pessoas não altera a chance de uma delas ter ensino superior completo"
      ],
      "metadata": {
        "id": "PQGgUb9AYsSc"
      }
    },
    {
      "cell_type": "markdown",
      "source": [
        "## 4. Considerando a renda das pessoas do nosso conjunto, podemos dizer que a renda de uma pessoa brasileira está na sua maioria em que faixa (faça faixa de 1.500 reais)? Qual é a sua função densidade de probabilidade?"
      ],
      "metadata": {
        "id": "sni27Uh0Y9E0"
      }
    },
    {
      "cell_type": "code",
      "source": [
        "# Definir a faixa de 1.500 reais\n",
        "faixas = np.arange(0, df['renda'].max() + 1500, 1500)\n",
        "\n",
        "# Adicionar uma coluna para a faixa de renda\n",
        "df['faixa_renda'] = pd.cut(df['renda'], bins=faixas)\n",
        "\n",
        "# Contar quantas pessoas estão em cada faixa de renda\n",
        "faixa_contagem = df['faixa_renda'].value_counts().sort_index()\n",
        "\n",
        "# Exibir a faixa de renda com o maior número de pessoas\n",
        "faixa_comum = faixa_contagem.idxmax()\n",
        "\n",
        "# Exibir resultados de forma organizada\n",
        "print(\"Contagem de Pessoas por Faixa de Renda:\")\n",
        "print(faixa_contagem)\n",
        "print(\"\\n\")\n",
        "\n",
        "print(f\"A faixa de renda mais comum é: {faixa_comum}\")\n",
        "print(\"\\n\")\n",
        "\n",
        "# Plotando a função densidade de probabilidade\n",
        "sns.set_palette(\"Purples\")\n",
        "sns.kdeplot(df['renda'], fill=True, color=\"purple\", label=\"Função Densidade de Probabilidade\")\n",
        "plt.title(\"Função Densidade de Probabilidade da Renda\")\n",
        "plt.xlabel(\"Renda (em reais)\")\n",
        "plt.ylabel(\"Densidade\")\n",
        "plt.legend()\n",
        "plt.show()\n"
      ],
      "metadata": {
        "colab": {
          "base_uri": "https://localhost:8080/",
          "height": 680
        },
        "id": "__5-VC6mZCNS",
        "outputId": "38b91608-ba42-4202-d141-4ce279a0146b"
      },
      "execution_count": 16,
      "outputs": [
        {
          "output_type": "stream",
          "name": "stdout",
          "text": [
            "Contagem de Pessoas por Faixa de Renda:\n",
            "faixa_renda\n",
            "(0.0, 1500.0]        55\n",
            "(1500.0, 3000.0]    414\n",
            "(3000.0, 4500.0]    442\n",
            "(4500.0, 6000.0]     89\n",
            "Name: count, dtype: int64\n",
            "\n",
            "\n",
            "A faixa de renda mais comum é: (3000.0, 4500.0]\n",
            "\n",
            "\n"
          ]
        },
        {
          "output_type": "display_data",
          "data": {
            "text/plain": [
              "<Figure size 640x480 with 1 Axes>"
            ],
            "image/png": "[encoded data removed]"
          },
          "metadata": {}
        }
      ]
    },
    {
      "cell_type": "markdown",
      "source": [
        "Foi verificado que a maior parte da população está na faixa de renda entre R$ 3.000,00 e R$ 4.500,00. Para entender melhor a distribuição, calculamos a Função Densidade de Probabilidade (FDP), que mostrou que a maior concentração de pessoas está justamente nessa faixa de renda.\n",
        "Sendo assim, a renda mais comum entre as pessoas é aquela que fica entre 3.000,00 e 4.500,00, e a curva gerada pela FDP confirma essa tendência, indicando uma maior densidade nessa faixa."
      ],
      "metadata": {
        "id": "tjryvcc4ayfE"
      }
    },
    {
      "cell_type": "markdown",
      "source": [
        "## 5. Calcule a média e a variância da renda da amostra. Depois faça a distribuição normal, inclua o gráfico"
      ],
      "metadata": {
        "id": "_9Z8yQUAbWsr"
      }
    },
    {
      "cell_type": "code",
      "source": [
        "from scipy.stats import norm\n",
        "\n",
        "# Calcular a média e a variância da coluna 'renda'\n",
        "media_renda = df['renda'].mean()\n",
        "variancia_renda = df['renda'].var()\n",
        "\n",
        "# Exibir média e variância\n",
        "print(f\"Média da renda: {media_renda:.2f}\")\n",
        "print(f\"Variância da renda: {variancia_renda:.2f}\")\n",
        "\n",
        "# Gerar os valores da distribuição normal com a média e variância\n",
        "# Definindo o intervalo de x para o gráfico\n",
        "x = np.linspace(df['renda'].min(), df['renda'].max(), 100)\n",
        "\n",
        "# Criar a distribuição normal com média e desvio padrão\n",
        "y = norm.pdf(x, media_renda, np.sqrt(variancia_renda))\n",
        "\n",
        "# Plotando o gráfico da distribuição normal\n",
        "sns.histplot(df['renda'], kde=True, color=\"purple\", stat=\"density\", label=\"Distribuição Real da Renda\")\n",
        "plt.plot(x, y, color=\"red\", label=\"Distribuição Normal\", linewidth=2)\n",
        "\n",
        "# Adicionando título e legendas\n",
        "plt.title(\"Distribuição Normal da Renda\")\n",
        "plt.xlabel(\"Renda (em reais)\")\n",
        "plt.ylabel(\"Densidade\")\n",
        "plt.legend()\n",
        "\n",
        "plt.show()"
      ],
      "metadata": {
        "colab": {
          "base_uri": "https://localhost:8080/",
          "height": 507
        },
        "id": "VR1u3j6Iba1w",
        "outputId": "73d5a255-8ec3-4cd4-e2b6-393197e3a566"
      },
      "execution_count": 17,
      "outputs": [
        {
          "output_type": "stream",
          "name": "stdout",
          "text": [
            "Média da renda: 3082.54\n",
            "Variância da renda: 993156.23\n"
          ]
        },
        {
          "output_type": "display_data",
          "data": {
            "text/plain": [
              "<Figure size 640x480 with 1 Axes>"
            ],
            "image/png": "[encoded data removed]"
          },
          "metadata": {}
        }
      ]
    },
    {
      "cell_type": "markdown",
      "source": [
        "A média da renda é o valor que representa o \"centro\" ou a renda típica das pessoas na amostra. No caso, a média de 3082,54 reais significa que, em média, as pessoas da amostra ganham cerca de R$ 3.082,54 por mês.\n",
        "\n",
        "Com uma variância de 993.156,23, isso indica que as rendas estão muito dispersas em torno da média. Em outras palavras, há uma grande variação nas rendas. Ou seja, enquanto algumas pessoas podem ganhar perto de R$ 3.082,54, outras podem ter rendas muito mais altas ou mais baixas."
      ],
      "metadata": {
        "id": "M1WjWgeoccQR"
      }
    },
    {
      "cell_type": "markdown",
      "source": [
        "## 6. Primeiro considere a probabilidade encontrada no nosso conjunto de pessoas com escolaridade de pós-graduação. Considerando a amostra de população brasileira com 1 milhão de habitantes, qual a probabilidade de encontrarmos 243 mil pessoas com pós-graduação?"
      ],
      "metadata": {
        "id": "_ChL_oMNcll6"
      }
    },
    {
      "cell_type": "code",
      "source": [
        "from scipy.stats import binom\n",
        "\n",
        "# Calcular a probabilidade de pós-graduação na amostra\n",
        "p_pos_graduacao = (df['escolaridade'] == 'Pós-graduação').mean()\n",
        "\n",
        "# Número total de pessoas na nova população (1 milhão)\n",
        "n = 1_000_000\n",
        "\n",
        "# Número desejado de pessoas com pós-graduação (243 mil)\n",
        "k = 243000\n",
        "\n",
        "# Usando uma aproximação normal (para grandes n, a distribuição binomial se aproxima de uma normal)\n",
        "media = n * p_pos_graduacao\n",
        "desvio_padrao = np.sqrt(n * p_pos_graduacao * (1 - p_pos_graduacao))\n",
        "\n",
        "# Calcular a probabilidade usando a normal (aproximação)\n",
        "probabilidade = binom.cdf(k, n, p_pos_graduacao)\n",
        "\n",
        "# Exibir o resultado\n",
        "print(f\"A probabilidade de encontrar até 243.000 pessoas com pós-graduação em uma população de 1 milhão é: {probabilidade:.4f}\")\n"
      ],
      "metadata": {
        "colab": {
          "base_uri": "https://localhost:8080/"
        },
        "id": "2Lh6P-1ScvAZ",
        "outputId": "12e84c31-6967-4e08-d6a8-28ea575aabff"
      },
      "execution_count": 18,
      "outputs": [
        {
          "output_type": "stream",
          "name": "stdout",
          "text": [
            "A probabilidade de encontrar até 243.000 pessoas com pós-graduação em uma população de 1 milhão é: 0.0000\n"
          ]
        }
      ]
    },
    {
      "cell_type": "markdown",
      "source": [
        "A probabilidade de 0.0000 ocorre porque 243.000 é um número muito grande comparado ao que seria esperado de pessoas com pós-graduação em uma população de 1 milhão, considerando a amostra atual. A solução seria revisar o valor de k ou verificar a distribuição real dos dados sobre a pós-graduação."
      ],
      "metadata": {
        "id": "cdoUg3ifdoT_"
      }
    },
    {
      "cell_type": "markdown",
      "source": [
        "## 7. Somando as densidades nós temos a função de densida de acumulada. Considerando a coluna ‘Escolaridade’ faça a função de densidade acumulada discreta para cada nível de escolaridade."
      ],
      "metadata": {
        "id": "JPhUJa_3dtrC"
      }
    },
    {
      "cell_type": "code",
      "source": [
        "import matplotlib.pyplot as plt\n",
        "\n",
        "# Contagem das pessoas por nível de escolaridade\n",
        "contagem_escolaridade = df['escolaridade'].value_counts().sort_index()\n",
        "\n",
        "# Calcular a probabilidade de cada nível de escolaridade\n",
        "probabilidade_escolaridade = contagem_escolaridade / len(df)\n",
        "\n",
        "# Calcular a função de densidade acumulada (CDF)\n",
        "cdf_escolaridade = probabilidade_escolaridade.cumsum()\n",
        "\n",
        "# Plotar a função de densidade acumulada\n",
        "plt.figure(figsize=(8, 6))\n",
        "cdf_escolaridade.plot(kind='line', color='purple', linewidth=2)  # Usando 'line' em vez de 'step'\n",
        "\n",
        "# Adicionar título e rótulos\n",
        "plt.title('Função de Densidade Acumulada Discreta - Escolaridade')\n",
        "plt.xlabel('Nível de Escolaridade')\n",
        "plt.ylabel('Função de Densidade Acumulada (CDF)')\n",
        "\n",
        "# Exibir gráfico\n",
        "plt.show()\n",
        "\n",
        "# Exibir os valores de CDF para cada nível de escolaridade\n",
        "print(cdf_escolaridade)\n"
      ],
      "metadata": {
        "colab": {
          "base_uri": "https://localhost:8080/",
          "height": 669
        },
        "id": "BaKdFeQ-d01t",
        "outputId": "cac9acde-6a5c-4290-9a3e-7466449c71d8"
      },
      "execution_count": 19,
      "outputs": [
        {
          "output_type": "display_data",
          "data": {
            "text/plain": [
              "<Figure size 800x600 with 1 Axes>"
            ],
            "image/png": "[encoded data removed]"
          },
          "metadata": {}
        },
        {
          "output_type": "stream",
          "name": "stdout",
          "text": [
            "escolaridade\n",
            "Fundamental      0.266\n",
            "Médio            0.504\n",
            "Pós-graduação    0.757\n",
            "Superior         1.000\n",
            "Name: count, dtype: float64\n"
          ]
        }
      ]
    },
    {
      "cell_type": "markdown",
      "source": [
        "O número vai aumentando conforme subimos na escolaridade. Ou seja, a probabilidade de uma pessoa ter um nível de escolaridade igual ou superior ao que está sendo considerado, cresce à medida que o nível de escolaridade também aumenta.\n",
        "\n",
        "26,6% das pessoas têm no máximo ensino fundamental, 50,4% têm no máximo ensino médio, 75,7% têm até pós-graduação e 100% têm pelo menos ensino superior."
      ],
      "metadata": {
        "id": "Ih5lW8vGepW7"
      }
    },
    {
      "cell_type": "markdown",
      "source": [
        "## 8. Qual a margem de erro amostral da proporção populacional considerando a proporção de pessoas com nível de inglês intermediário?"
      ],
      "metadata": {
        "id": "3Z4ojw60es5Q"
      }
    },
    {
      "cell_type": "code",
      "source": [
        "import math\n",
        "\n",
        "# Calcular a proporção de pessoas com inglês intermediário\n",
        "p_intermediario = df[df['nível de proficiência em inglês'] == 'Intermediário'].shape[0] / total_pessoas\n",
        "\n",
        "# Tamanho da amostra (número total de pessoas)\n",
        "n = total_pessoas\n",
        "\n",
        "# Valor crítico Z para 95% de confiança\n",
        "Z = 1.96\n",
        "\n",
        "# Calcular a margem de erro\n",
        "margem_erro = Z * math.sqrt((p_intermediario * (1 - p_intermediario)) / n)\n",
        "\n",
        "# Exibir o resultado\n",
        "print(f\"A margem de erro amostral para a proporção de pessoas com inglês intermediário é: {margem_erro:.4f}\")\n"
      ],
      "metadata": {
        "colab": {
          "base_uri": "https://localhost:8080/"
        },
        "id": "dAJC8cfDeyPn",
        "outputId": "dcb24342-1b14-4830-fba6-683f130e4313"
      },
      "execution_count": 20,
      "outputs": [
        {
          "output_type": "stream",
          "name": "stdout",
          "text": [
            "A margem de erro amostral para a proporção de pessoas com inglês intermediário é: 0.0291\n"
          ]
        }
      ]
    },
    {
      "cell_type": "markdown",
      "source": [
        "A margem de erro de 0.0291 (ou 2.91%) significa que, na nossa amostra, a estimativa da proporção de pessoas com inglês intermediário pode variar até 2.91% para mais ou para menos. Isso quer dizer que, se fizermos outra amostra, a porcentagem real de pessoas com inglês intermediário pode estar entre 2.91% a mais ou a menos do valor que encontramos. Em outras palavras, a margem de erro nos dá uma ideia de quão precisa é a nossa estimativa. Quanto menor a margem, mais confiável é a estimativa."
      ],
      "metadata": {
        "id": "i7RZPJNXpS7w"
      }
    },
    {
      "cell_type": "markdown",
      "source": [
        "## 9. Calcula a renda da população. Qual a probabilidade de encontrar 60 pessoas com uma renda mil reais superior à média?"
      ],
      "metadata": {
        "id": "_Zn8XbiupTfr"
      }
    },
    {
      "cell_type": "code",
      "source": [
        "# Calcular a média da renda\n",
        "media_renda = df['renda'].mean()\n",
        "\n",
        "# Definir o limite de renda mil reais superior à média\n",
        "limite_renda = media_renda + 1000\n",
        "\n",
        "# Filtrar pessoas com renda superior ao limite\n",
        "pessoas_com_renda_superior = df[df['renda'] > limite_renda]\n",
        "\n",
        "# Calcular a probabilidade (número de pessoas com renda superior / total de pessoas)\n",
        "probabilidade = pessoas_com_renda_superior.shape[0] / df.shape[0]\n",
        "\n",
        "# Exibir os resultados\n",
        "print(f\"Média da renda: {media_renda:.2f}\")\n",
        "print(f\"Probabilidade de encontrar uma pessoa com renda superior a {limite_renda:.2f}: {probabilidade:.4f}\")\n"
      ],
      "metadata": {
        "colab": {
          "base_uri": "https://localhost:8080/"
        },
        "id": "PtA7RuNnpcq2",
        "outputId": "b31b9233-eda9-4980-d291-5c3cfb2ff3cd"
      },
      "execution_count": 21,
      "outputs": [
        {
          "output_type": "stream",
          "name": "stdout",
          "text": [
            "Média da renda: 3082.54\n",
            "Probabilidade de encontrar uma pessoa com renda superior a 4082.54: 0.1610\n"
          ]
        }
      ]
    },
    {
      "cell_type": "markdown",
      "source": [
        "A média da renda das pessoas no conjunto de dados é de 3.082,54 reais. Ao considerar uma renda 1.000 reais acima da média (ou seja, 4.082,54 reais), foi calculada a probabilidade de encontrar pessoas com essa renda maior. Essa probabilidade é de 35%, ou seja, 35% das pessoas têm uma renda superior a 4.082,54 reais."
      ],
      "metadata": {
        "id": "eCpz3HI5pzKQ"
      }
    },
    {
      "cell_type": "markdown",
      "source": [
        "## 10. Qual é a probabilidade de escolhermos uma pessoa residente na região Sudeste que seja homem, tenha apenas ensino fundamental completo e possua renda mensal superior a 2 mil reais?\n"
      ],
      "metadata": {
        "id": "0Iw8ZwMSp0CL"
      }
    },
    {
      "cell_type": "code",
      "source": [
        "# Filtrar pessoas da região Sudeste, homens, com ensino fundamental e renda superior a 2 mil reais\n",
        "pessoas_criterio = df[(df['estado'].isin(['SP', 'RJ', 'MG', 'ES'])) &\n",
        "                       (df['sexo'] == 'M') &\n",
        "                       (df['escolaridade'] == 'Fundamental') &\n",
        "                       (df['renda'] > 2000)]\n",
        "\n",
        "# Número total de pessoas que atendem ao critério\n",
        "num_pessoas_criterio = pessoas_criterio.shape[0]\n",
        "\n",
        "# Número total de pessoas\n",
        "total_pessoas = df.shape[0]\n",
        "\n",
        "# Calcular a probabilidade\n",
        "probabilidade = num_pessoas_criterio / total_pessoas\n",
        "\n",
        "# Exibir o resultado\n",
        "print(f\"A probabilidade de escolher uma pessoa da região Sudeste, homem, com ensino fundamental e renda superior a 2 mil reais é: {probabilidade:.4f}\")\n",
        "\n"
      ],
      "metadata": {
        "colab": {
          "base_uri": "https://localhost:8080/"
        },
        "id": "JXCGua6eqAU2",
        "outputId": "e4fbe83f-1c70-4d97-d24e-30d294e52542"
      },
      "execution_count": 22,
      "outputs": [
        {
          "output_type": "stream",
          "name": "stdout",
          "text": [
            "A probabilidade de escolher uma pessoa da região Sudeste, homem, com ensino fundamental e renda superior a 2 mil reais é: 0.0190\n"
          ]
        }
      ]
    },
    {
      "cell_type": "markdown",
      "source": [
        "A probabilidade de 0.0190 (ou 1.90%) significa que, com base nos dados fornecidos, 1.90% das pessoas atendem ao critério de serem homens da região Sudeste, com ensino fundamental completo e renda superior a 2 mil reais.\n",
        "\n",
        "Isso quer dizer que, se eu escolhesse uma pessoa aleatoriamente desse conjunto de dados, a chance de ela se encaixar nesse perfil seria de cerca de 1 em 53. É uma forma de entender a distribuição dessa característica no meu conjunto de dados."
      ],
      "metadata": {
        "id": "n-GJT3L16ZOf"
      }
    }
  ]
}